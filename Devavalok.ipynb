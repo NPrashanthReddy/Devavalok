{
 "cells": [
  {
   "cell_type": "code",
   "execution_count": null,
   "source": [
    "import torch \r\n"
   ],
   "outputs": [],
   "metadata": {}
  }
 ],
 "metadata": {
  "orig_nbformat": 4,
  "language_info": {
   "name": "python",
   "version": "3.8.11"
  },
  "kernelspec": {
   "name": "python3",
   "display_name": "Python 3.8.11 64-bit ('base': conda)"
  },
  "interpreter": {
   "hash": "cb19c56b6ac21c25a73248544634c57f30d642648448db5dc430d43bc0c99fdd"
  }
 },
 "nbformat": 4,
 "nbformat_minor": 2
}